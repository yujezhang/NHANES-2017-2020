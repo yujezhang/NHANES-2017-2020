{
 "cells": [
  {
   "cell_type": "code",
   "execution_count": 4,
   "metadata": {},
   "outputs": [],
   "source": [
    "import pandas as pd\n",
    "import matplotlib.pyplot as plt\n",
    "from sklearn import linear_model\n",
    "from sklearn.preprocessing import StandardScaler\n",
    "from scipy import stats\n",
    "import numpy"
   ]
  },
  {
   "cell_type": "markdown",
   "metadata": {},
   "source": [
    "**function for loading indicators in a dataframe**"
   ]
  },
  {
   "cell_type": "code",
   "execution_count": 5,
   "metadata": {},
   "outputs": [],
   "source": [
    "def load_indicators(\n",
    "    tables_columns: dict\n",
    "):\n",
    "    indicators = list()\n",
    "    for table, columns in tables_columns.items():\n",
    "        if 'SEQN' not in columns: columns.append('SEQN')\n",
    "        indicator = pd.read_csv(f'../data/{table}.csv')[columns]\n",
    "        indicators.append(indicator)\n",
    "    \n",
    "    result = indicators[0]\n",
    "    for indicator in indicators[1:]:\n",
    "        result = pd.merge(result, indicator, on='SEQN', how='inner')\n",
    "        \n",
    "    return result\n",
    "                "
   ]
  },
  {
   "cell_type": "markdown",
   "metadata": {},
   "source": [
    "**load indicators for analysis**"
   ]
  },
  {
   "cell_type": "code",
   "execution_count": 20,
   "metadata": {},
   "outputs": [],
   "source": [
    "\n",
    "# load certain .csv file and columns you want in indicators\n",
    "ind = load_indicators({\n",
    "    'P_DEMO': ['RIAGENDR', 'RIDAGEYR'],\n",
    "    'P_ALQ': ['ALQ121'],\n",
    "    'P_BPQ': ['BPQ020']\n",
    "})\n",
    "# filter rows with conditions\n",
    "ind = ind[\n",
    "    (ind['RIAGENDR'] == 1)&\n",
    "    (ind['RIDAGEYR'] >= 18)&\n",
    "    (ind['ALQ121'].notna())\n",
    "]\n"
   ]
  }
 ],
 "metadata": {
  "kernelspec": {
   "display_name": "base",
   "language": "python",
   "name": "python3"
  },
  "language_info": {
   "codemirror_mode": {
    "name": "ipython",
    "version": 3
   },
   "file_extension": ".py",
   "mimetype": "text/x-python",
   "name": "python",
   "nbconvert_exporter": "python",
   "pygments_lexer": "ipython3",
   "version": "3.11.5"
  }
 },
 "nbformat": 4,
 "nbformat_minor": 2
}
